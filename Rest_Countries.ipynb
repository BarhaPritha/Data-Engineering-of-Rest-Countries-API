{
  "nbformat": 4,
  "nbformat_minor": 0,
  "metadata": {
    "colab": {
      "provenance": [],
      "authorship_tag": "ABX9TyPsOUszEikoqzc6jtuQVdAA",
      "include_colab_link": true
    },
    "kernelspec": {
      "name": "python3",
      "display_name": "Python 3"
    },
    "language_info": {
      "name": "python"
    }
  },
  "cells": [
    {
      "cell_type": "markdown",
      "metadata": {
        "id": "view-in-github",
        "colab_type": "text"
      },
      "source": [
        "<a href=\"https://colab.research.google.com/github/BarhaPritha/Data-Engineering-of-Rest-Countries-API/blob/main/Rest_Countries.ipynb\" target=\"_parent\"><img src=\"https://colab.research.google.com/assets/colab-badge.svg\" alt=\"Open In Colab\"/></a>"
      ]
    },
    {
      "cell_type": "code",
      "execution_count": 1,
      "metadata": {
        "id": "pySbQWKgdo2p"
      },
      "outputs": [],
      "source": [
        "# Author: Barha Meherun Pritha\n",
        "\n",
        "\"\"\"\n",
        "Dataset: REST Countries API with selected fields\n",
        "\n",
        "https://restcountries.com/v3.1/all?fields=cca3,name,capital,continents,languages,area,borders,population,startOfWeek,timezones\n",
        "\n",
        "Fields extracted:\n",
        "  cca3, name.common, capital, continents, languages, area, borders, population, startOfWeek, timezones\n",
        "\"\"\"\n",
        "\n",
        "\n",
        "import os\n",
        "import sys\n",
        "import logging\n",
        "import sqlite3\n",
        "import requests\n",
        "import pandas as pd\n",
        "from typing import List, Dict, Any\n",
        "\n",
        "\n",
        "logging.basicConfig(level=logging.INFO, format=\"%(asctime)s [%(levelname)s] %(message)s\")\n",
        "logger = logging.getLogger(__name__)\n",
        "\n",
        "\n",
        "API_URL = os.getenv(\"REST_COUNTRIES_URL\",\n",
        "                    \"https://restcountries.com/v3.1/all?fields=cca3,name,capital,continents,languages,area,borders,population,startOfWeek,timezones\")\n",
        "DB_PATH = os.getenv(\"DB_PATH\", \"data.db\")\n",
        "\n",
        "\n",
        "\n",
        "def extract() -> List[Dict[str, Any]]:\n",
        "    try:\n",
        "        logger.info(f\"Extract: requesting data from API\")\n",
        "        resp = requests.get(API_URL, timeout=15)\n",
        "        resp.raise_for_status()\n",
        "        return resp.json()\n",
        "    except Exception as e:\n",
        "        logger.warning(f\"API request failed: {e}.\")\n",
        "\n",
        "\n",
        "def transform(data: List[Dict[str, Any]]):\n",
        "    countries, languages, country_languages = [], {}, []\n",
        "\n",
        "    for country in data:\n",
        "        countryCode = country.get(\"cca3\")\n",
        "        if not countryCode:\n",
        "            continue\n",
        "\n",
        "        name = country.get(\"name\", {}).get(\"common\", \"\").upper()\n",
        "        capital = \", \".join(country.get(\"capital\") or []).upper()\n",
        "        continents = \", \".join(country.get(\"continents\") or []).upper()\n",
        "        population = int(country.get(\"population\") or 0)\n",
        "        area = float(country.get(\"area\") or 0.0)\n",
        "        density = population / area if area else None\n",
        "        borders = \", \".join(country.get(\"borders\") or [])\n",
        "        weekStart = country.get(\"startOfWeek\")\n",
        "        timezones = \", \".join(country.get(\"timezones\") or [])\n",
        "\n",
        "        countries.append({\n",
        "            \"Code\": countryCode,\n",
        "            \"Name\": name,\n",
        "            \"Capital\": capital,\n",
        "            \"Continent\": continents,\n",
        "            \"Population\": population,\n",
        "            \"Area\": area,\n",
        "            \"Density\": density,\n",
        "            \"Borders\": borders,\n",
        "            \"Week Start\": weekStart,\n",
        "            \"Timezones\": timezones\n",
        "        })\n",
        "\n",
        "        for code, lname in (country.get(\"languages\") or {}).items():\n",
        "            languages[code] = lname\n",
        "            country_languages.append((countryCode, code))\n",
        "\n",
        "    logger.info(f\"Transform: {len(countries)} countries, {len(languages)} languages total\")\n",
        "    return countries, languages, country_languages"
      ]
    }
  ]
}